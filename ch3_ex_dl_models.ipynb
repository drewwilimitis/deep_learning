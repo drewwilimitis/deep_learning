{
 "cells": [
  {
   "cell_type": "markdown",
   "metadata": {},
   "source": [
    "# Deep Learning with Python: Chapter 3"
   ]
  },
  {
   "cell_type": "code",
   "execution_count": 7,
   "metadata": {
    "ExecuteTime": {
     "end_time": "2019-02-03T14:57:50.076621Z",
     "start_time": "2019-02-03T14:57:50.060021Z"
    }
   },
   "outputs": [],
   "source": [
    "# To plot pretty figures\n",
    "%matplotlib inline\n",
    "import matplotlib\n",
    "import matplotlib.pyplot as plt\n",
    "plt.rcParams['axes.labelsize'] = 14\n",
    "plt.rcParams['xtick.labelsize'] = 12\n",
    "plt.rcParams['ytick.labelsize'] = 12\n",
    "\n",
    "# display multiple outputs within a cell\n",
    "from IPython.core.interactiveshell import InteractiveShell\n",
    "InteractiveShell.ast_node_interactivity = \"all\";\n",
    "\n",
    "import warnings\n",
    "warnings.filterwarnings('ignore');\n",
    "\n",
    "# TensorFlow and tf.keras\n",
    "from tensorflow import keras\n",
    "import tensorflow as tf\n",
    "\n",
    "# Helper libraries\n",
    "import numpy as np\n",
    "import matplotlib.pyplot as plt\n",
    "\n",
    "print(tf.__version__)"
   ]
  },
  {
   "cell_type": "markdown",
   "metadata": {},
   "source": [
    "**Deep learning is a specific subfield of machine learning**: a new take on learning representations\n",
    "from data that puts an emphasis on learning successive layers of increasingly\n",
    "meaningful representations."
   ]
  },
  {
   "cell_type": "markdown",
   "metadata": {},
   "source": [
    "Deep learning, on the other hand, completely automates feature engineering:\n",
    "with deep learning, you learn all features in one pass rather than having to engineer them yourself"
   ]
  },
  {
   "cell_type": "markdown",
   "metadata": {},
   "source": [
    "These are the two essential characteristics of how deep learning learns from data:\n",
    "the incremental, layer-by-layer way in which increasingly complex representations are developed,\n",
    "and the fact that these intermediate incremental representations are learned jointly, each layer\n",
    "being updated to follow both the representational needs of the layer above and the\n",
    "needs of the layer below."
   ]
  },
  {
   "cell_type": "markdown",
   "metadata": {},
   "source": [
    "# Binary Classification: IMDB Dataset"
   ]
  },
  {
   "cell_type": "code",
   "execution_count": 12,
   "metadata": {
    "ExecuteTime": {
     "end_time": "2019-02-03T15:00:18.858059Z",
     "start_time": "2019-02-03T15:00:12.392960Z"
    }
   },
   "outputs": [],
   "source": [
    "# movie reviews are either positive (1) or negative (0)\n",
    "from tensorflow.keras.datasets import imdb\n",
    "# preprocessed as counts of word frequencies\n",
    "(train_data, train_labels), (test_data, test_labels) = imdb.load_data(\n",
    "num_words=10000)"
   ]
  },
  {
   "cell_type": "code",
   "execution_count": 18,
   "metadata": {
    "ExecuteTime": {
     "end_time": "2019-02-03T15:01:09.463823Z",
     "start_time": "2019-02-03T15:01:09.454823Z"
    }
   },
   "outputs": [
    {
     "data": {
      "text/plain": [
       "[1,\n",
       " 14,\n",
       " 22,\n",
       " 16,\n",
       " 43,\n",
       " 530,\n",
       " 973,\n",
       " 1622,\n",
       " 1385,\n",
       " 65,\n",
       " 458,\n",
       " 4468,\n",
       " 66,\n",
       " 3941,\n",
       " 4,\n",
       " 173,\n",
       " 36,\n",
       " 256,\n",
       " 5,\n",
       " 25,\n",
       " 100,\n",
       " 43,\n",
       " 838,\n",
       " 112,\n",
       " 50,\n",
       " 670,\n",
       " 2,\n",
       " 9,\n",
       " 35,\n",
       " 480,\n",
       " 284,\n",
       " 5,\n",
       " 150,\n",
       " 4,\n",
       " 172,\n",
       " 112,\n",
       " 167,\n",
       " 2,\n",
       " 336,\n",
       " 385,\n",
       " 39,\n",
       " 4,\n",
       " 172,\n",
       " 4536,\n",
       " 1111,\n",
       " 17,\n",
       " 546,\n",
       " 38,\n",
       " 13,\n",
       " 447,\n",
       " 4,\n",
       " 192,\n",
       " 50,\n",
       " 16,\n",
       " 6,\n",
       " 147,\n",
       " 2025,\n",
       " 19,\n",
       " 14,\n",
       " 22,\n",
       " 4,\n",
       " 1920,\n",
       " 4613,\n",
       " 469,\n",
       " 4,\n",
       " 22,\n",
       " 71,\n",
       " 87,\n",
       " 12,\n",
       " 16,\n",
       " 43,\n",
       " 530,\n",
       " 38,\n",
       " 76,\n",
       " 15,\n",
       " 13,\n",
       " 1247,\n",
       " 4,\n",
       " 22,\n",
       " 17,\n",
       " 515,\n",
       " 17,\n",
       " 12,\n",
       " 16,\n",
       " 626,\n",
       " 18,\n",
       " 2,\n",
       " 5,\n",
       " 62,\n",
       " 386,\n",
       " 12,\n",
       " 8,\n",
       " 316,\n",
       " 8,\n",
       " 106,\n",
       " 5,\n",
       " 4,\n",
       " 2223,\n",
       " 5244,\n",
       " 16,\n",
       " 480,\n",
       " 66,\n",
       " 3785,\n",
       " 33,\n",
       " 4,\n",
       " 130,\n",
       " 12,\n",
       " 16,\n",
       " 38,\n",
       " 619,\n",
       " 5,\n",
       " 25,\n",
       " 124,\n",
       " 51,\n",
       " 36,\n",
       " 135,\n",
       " 48,\n",
       " 25,\n",
       " 1415,\n",
       " 33,\n",
       " 6,\n",
       " 22,\n",
       " 12,\n",
       " 215,\n",
       " 28,\n",
       " 77,\n",
       " 52,\n",
       " 5,\n",
       " 14,\n",
       " 407,\n",
       " 16,\n",
       " 82,\n",
       " 2,\n",
       " 8,\n",
       " 4,\n",
       " 107,\n",
       " 117,\n",
       " 5952,\n",
       " 15,\n",
       " 256,\n",
       " 4,\n",
       " 2,\n",
       " 7,\n",
       " 3766,\n",
       " 5,\n",
       " 723,\n",
       " 36,\n",
       " 71,\n",
       " 43,\n",
       " 530,\n",
       " 476,\n",
       " 26,\n",
       " 400,\n",
       " 317,\n",
       " 46,\n",
       " 7,\n",
       " 4,\n",
       " 2,\n",
       " 1029,\n",
       " 13,\n",
       " 104,\n",
       " 88,\n",
       " 4,\n",
       " 381,\n",
       " 15,\n",
       " 297,\n",
       " 98,\n",
       " 32,\n",
       " 2071,\n",
       " 56,\n",
       " 26,\n",
       " 141,\n",
       " 6,\n",
       " 194,\n",
       " 7486,\n",
       " 18,\n",
       " 4,\n",
       " 226,\n",
       " 22,\n",
       " 21,\n",
       " 134,\n",
       " 476,\n",
       " 26,\n",
       " 480,\n",
       " 5,\n",
       " 144,\n",
       " 30,\n",
       " 5535,\n",
       " 18,\n",
       " 51,\n",
       " 36,\n",
       " 28,\n",
       " 224,\n",
       " 92,\n",
       " 25,\n",
       " 104,\n",
       " 4,\n",
       " 226,\n",
       " 65,\n",
       " 16,\n",
       " 38,\n",
       " 1334,\n",
       " 88,\n",
       " 12,\n",
       " 16,\n",
       " 283,\n",
       " 5,\n",
       " 16,\n",
       " 4472,\n",
       " 113,\n",
       " 103,\n",
       " 32,\n",
       " 15,\n",
       " 16,\n",
       " 5345,\n",
       " 19,\n",
       " 178,\n",
       " 32]"
      ]
     },
     "execution_count": 18,
     "metadata": {},
     "output_type": "execute_result"
    },
    {
     "data": {
      "text/plain": [
       "1"
      ]
     },
     "execution_count": 18,
     "metadata": {},
     "output_type": "execute_result"
    },
    {
     "data": {
      "text/plain": [
       "(25000,)"
      ]
     },
     "execution_count": 18,
     "metadata": {},
     "output_type": "execute_result"
    }
   ],
   "source": [
    "train_data[0]\n",
    "train_labels[0]\n",
    "train_data.shape"
   ]
  },
  {
   "cell_type": "code",
   "execution_count": 19,
   "metadata": {
    "ExecuteTime": {
     "end_time": "2019-02-03T15:02:38.586075Z",
     "start_time": "2019-02-03T15:02:37.734293Z"
    }
   },
   "outputs": [
    {
     "name": "stdout",
     "output_type": "stream",
     "text": [
      "Downloading data from https://storage.googleapis.com/tensorflow/tf-keras-datasets/imdb_word_index.json\n",
      "1646592/1641221 [==============================] - 0s 0us/step\n"
     ]
    }
   ],
   "source": [
    "# can decode back to english\n",
    "word_index = imdb.get_word_index()\n",
    "reverse_word_index = dict(\n",
    "[(value, key) for (key, value) in word_index.items()])\n",
    "decoded_review = ' '.join(\n",
    "[reverse_word_index.get(i - 3, '?') for i in train_data[0]])"
   ]
  },
  {
   "cell_type": "code",
   "execution_count": 20,
   "metadata": {
    "ExecuteTime": {
     "end_time": "2019-02-03T15:02:54.665757Z",
     "start_time": "2019-02-03T15:02:54.664757Z"
    },
    "scrolled": true
   },
   "outputs": [
    {
     "data": {
      "text/plain": [
       "\"? this film was just brilliant casting location scenery story direction everyone's really suited the part they played and you could just imagine being there robert ? is an amazing actor and now the same being director ? father came from the same scottish island as myself so i loved the fact there was a real connection with this film the witty remarks throughout the film were great it was just brilliant so much that i bought the film as soon as it was released for ? and would recommend it to everyone to watch and the fly fishing was amazing really cried at the end it was so sad and you know what they say if you cry at a film it must have been good and this definitely was also ? to the two little boy's that played the ? of norman and paul they were just brilliant children are often left out of the ? list i think because the stars that play them all grown up are such a big profile for the whole film but these children are amazing and should be praised for what they have done don't you think the whole story was so lovely because it was true and was someone's life after all that was shared with us all\""
      ]
     },
     "execution_count": 20,
     "metadata": {},
     "output_type": "execute_result"
    }
   ],
   "source": [
    "decoded_review"
   ]
  },
  {
   "cell_type": "markdown",
   "metadata": {},
   "source": [
    "# Data prep"
   ]
  },
  {
   "cell_type": "code",
   "execution_count": 21,
   "metadata": {
    "ExecuteTime": {
     "end_time": "2019-02-03T15:06:41.508924Z",
     "start_time": "2019-02-03T15:06:25.247696Z"
    }
   },
   "outputs": [],
   "source": [
    "# we need to turn lists of integers into tensors\n",
    "\n",
    "# encode integer sequence as a binary matrix\n",
    "def vectorize_sequences(sequences, dimension=10000):\n",
    "    results = np.zeros((len(sequences), dimension))\n",
    "    for i, sequence in enumerate(sequences):\n",
    "        results[i, sequence] = 1.\n",
    "    return results\n",
    "x_train = vectorize_sequences(train_data)\n",
    "x_test = vectorize_sequences(test_data)"
   ]
  },
  {
   "cell_type": "code",
   "execution_count": 23,
   "metadata": {
    "ExecuteTime": {
     "end_time": "2019-02-03T15:07:09.109495Z",
     "start_time": "2019-02-03T15:07:09.104495Z"
    }
   },
   "outputs": [
    {
     "data": {
      "text/plain": [
       "array([0., 1., 1., ..., 0., 0., 0.])"
      ]
     },
     "execution_count": 23,
     "metadata": {},
     "output_type": "execute_result"
    },
    {
     "data": {
      "text/plain": [
       "(10000,)"
      ]
     },
     "execution_count": 23,
     "metadata": {},
     "output_type": "execute_result"
    }
   ],
   "source": [
    "x_train[0]\n",
    "x_train[0].shape"
   ]
  },
  {
   "cell_type": "code",
   "execution_count": 24,
   "metadata": {
    "ExecuteTime": {
     "end_time": "2019-02-03T15:07:53.923927Z",
     "start_time": "2019-02-03T15:07:53.884927Z"
    }
   },
   "outputs": [],
   "source": [
    "# vectorize labels\n",
    "y_train = np.array(train_labels).astype('float32')\n",
    "y_test = np.array(test_labels).astype('float32')"
   ]
  },
  {
   "cell_type": "markdown",
   "metadata": {},
   "source": [
    "# building model"
   ]
  },
  {
   "cell_type": "code",
   "execution_count": 35,
   "metadata": {
    "ExecuteTime": {
     "end_time": "2019-02-03T15:23:47.114155Z",
     "start_time": "2019-02-03T15:23:46.971756Z"
    }
   },
   "outputs": [],
   "source": [
    "from tensorflow.keras import models\n",
    "from tensorflow.keras import layers\n",
    "\n",
    "model = models.Sequential()\n",
    "# 16 hidden units in each of the two dense layers\n",
    "# 16 dimensional representation space in each layer\n",
    "model.add(layers.Dense(16, activation='relu', input_shape=(10000,)))\n",
    "model.add(layers.Dense(16, activation='relu'))\n",
    "# binary classification - sigmoid activation to output probability\n",
    "model.add(layers.Dense(1, activation='sigmoid'))"
   ]
  },
  {
   "cell_type": "markdown",
   "metadata": {},
   "source": [
    "The dense layer has two linear operations: <br>\n",
    "output = dot_product(W * input) + b\n",
    "\n",
    "Activation functions: <br>\n",
    "relu = rectified linear unit (non-linearity) allows the model to access a space of non-linear transformations "
   ]
  },
  {
   "cell_type": "code",
   "execution_count": 37,
   "metadata": {
    "ExecuteTime": {
     "end_time": "2019-02-03T15:24:25.362787Z",
     "start_time": "2019-02-03T15:24:25.165990Z"
    }
   },
   "outputs": [],
   "source": [
    "from tensorflow.keras import optimizers\n",
    "model.compile(optimizer=optimizers.RMSprop(lr=0.001),\n",
    "              loss='binary_crossentropy',\n",
    "              metrics=['accuracy'])"
   ]
  },
  {
   "cell_type": "code",
   "execution_count": 38,
   "metadata": {
    "ExecuteTime": {
     "end_time": "2019-02-03T15:25:37.099258Z",
     "start_time": "2019-02-03T15:25:37.098258Z"
    }
   },
   "outputs": [],
   "source": [
    "# creating validation data\n",
    "x_val = x_train[:10000]\n",
    "partial_x_train = x_train[10000:]\n",
    "y_val = y_train[:10000]\n",
    "partial_y_train = y_train[10000:]"
   ]
  },
  {
   "cell_type": "code",
   "execution_count": 39,
   "metadata": {
    "ExecuteTime": {
     "end_time": "2019-02-03T15:28:29.289143Z",
     "start_time": "2019-02-03T15:27:10.006975Z"
    }
   },
   "outputs": [
    {
     "name": "stdout",
     "output_type": "stream",
     "text": [
      "Train on 15000 samples, validate on 10000 samples\n",
      "Epoch 1/20\n",
      "15000/15000 [==============================] - 11s 743us/step - loss: 0.5232 - acc: 0.7899 - val_loss: 0.4061 - val_acc: 0.8545\n",
      "Epoch 2/20\n",
      "15000/15000 [==============================] - 4s 268us/step - loss: 0.3180 - acc: 0.8983 - val_loss: 0.3127 - val_acc: 0.8847\n",
      "Epoch 3/20\n",
      "15000/15000 [==============================] - 3s 230us/step - loss: 0.2313 - acc: 0.9256 - val_loss: 0.2856 - val_acc: 0.8885\n",
      "Epoch 4/20\n",
      "15000/15000 [==============================] - 4s 240us/step - loss: 0.1823 - acc: 0.9407 - val_loss: 0.2744 - val_acc: 0.8882\n",
      "Epoch 5/20\n",
      "15000/15000 [==============================] - 4s 247us/step - loss: 0.1447 - acc: 0.9545 - val_loss: 0.2760 - val_acc: 0.8875\n",
      "Epoch 6/20\n",
      "15000/15000 [==============================] - 4s 253us/step - loss: 0.1200 - acc: 0.9628 - val_loss: 0.2890 - val_acc: 0.8864\n",
      "Epoch 7/20\n",
      "15000/15000 [==============================] - 3s 230us/step - loss: 0.0965 - acc: 0.9741 - val_loss: 0.3037 - val_acc: 0.8842\n",
      "Epoch 8/20\n",
      "15000/15000 [==============================] - 3s 227us/step - loss: 0.0779 - acc: 0.9792 - val_loss: 0.3231 - val_acc: 0.8827\n",
      "Epoch 9/20\n",
      "15000/15000 [==============================] - 3s 225us/step - loss: 0.0632 - acc: 0.9841 - val_loss: 0.3706 - val_acc: 0.8741\n",
      "Epoch 10/20\n",
      "15000/15000 [==============================] - 4s 253us/step - loss: 0.0498 - acc: 0.9887 - val_loss: 0.3788 - val_acc: 0.8781\n",
      "Epoch 11/20\n",
      "15000/15000 [==============================] - 3s 230us/step - loss: 0.0384 - acc: 0.9923 - val_loss: 0.3971 - val_acc: 0.8772\n",
      "Epoch 12/20\n",
      "15000/15000 [==============================] - 3s 219us/step - loss: 0.0313 - acc: 0.9937 - val_loss: 0.4194 - val_acc: 0.8763\n",
      "Epoch 13/20\n",
      "15000/15000 [==============================] - 3s 221us/step - loss: 0.0245 - acc: 0.9953 - val_loss: 0.4469 - val_acc: 0.8752\n",
      "Epoch 14/20\n",
      "15000/15000 [==============================] - 4s 235us/step - loss: 0.0173 - acc: 0.9973 - val_loss: 0.4784 - val_acc: 0.8732\n",
      "Epoch 15/20\n",
      "15000/15000 [==============================] - 3s 220us/step - loss: 0.0136 - acc: 0.9987 - val_loss: 0.5075 - val_acc: 0.8735\n",
      "Epoch 16/20\n",
      "15000/15000 [==============================] - 3s 220us/step - loss: 0.0084 - acc: 0.9995 - val_loss: 0.5853 - val_acc: 0.8648\n",
      "Epoch 17/20\n",
      "15000/15000 [==============================] - 3s 222us/step - loss: 0.0058 - acc: 0.9998 - val_loss: 0.6539 - val_acc: 0.8598\n",
      "Epoch 18/20\n",
      "15000/15000 [==============================] - 3s 224us/step - loss: 0.0059 - acc: 0.9998 - val_loss: 0.6047 - val_acc: 0.8714\n",
      "Epoch 19/20\n",
      "15000/15000 [==============================] - 4s 251us/step - loss: 0.0052 - acc: 0.9990 - val_loss: 0.6307 - val_acc: 0.8701\n",
      "Epoch 20/20\n",
      "15000/15000 [==============================] - 3s 232us/step - loss: 0.0021 - acc: 0.9999 - val_loss: 0.6703 - val_acc: 0.8683\n"
     ]
    }
   ],
   "source": [
    "model.compile(optimizer='rmsprop',\n",
    "              loss='binary_crossentropy',\n",
    "              metrics=['acc'])\n",
    "\n",
    "# 20 epochs = 20 iterations over all training samples\n",
    "# mini-batches of 512 samples\n",
    "history = model.fit(partial_x_train,\n",
    "                    partial_y_train,\n",
    "                    epochs=20,\n",
    "                    batch_size=512,\n",
    "                    validation_data=(x_val, y_val))"
   ]
  },
  {
   "cell_type": "code",
   "execution_count": 44,
   "metadata": {
    "ExecuteTime": {
     "end_time": "2019-02-03T15:31:54.382360Z",
     "start_time": "2019-02-03T15:31:54.380360Z"
    }
   },
   "outputs": [
    {
     "data": {
      "text/plain": [
       "dict_keys(['val_loss', 'val_acc', 'loss', 'acc'])"
      ]
     },
     "execution_count": 44,
     "metadata": {},
     "output_type": "execute_result"
    },
    {
     "data": {
      "text/plain": [
       "[0.7899333336194356,\n",
       " 0.8982666666030884,\n",
       " 0.925600000222524,\n",
       " 0.9407333334604899,\n",
       " 0.9544666667302449,\n",
       " 0.9628000001271566,\n",
       " 0.9740666663805644,\n",
       " 0.9792000002543132,\n",
       " 0.9841333331425984,\n",
       " 0.9886666665712992,\n",
       " 0.9922666669209799,\n",
       " 0.9937333333333334,\n",
       " 0.9953333333333333,\n",
       " 0.9973333335876465,\n",
       " 0.9987333333333334,\n",
       " 0.9994666669209799,\n",
       " 0.9998,\n",
       " 0.9998,\n",
       " 0.999,\n",
       " 0.9999333333333333]"
      ]
     },
     "execution_count": 44,
     "metadata": {},
     "output_type": "execute_result"
    }
   ],
   "source": [
    "# history object contains training loop accuracy data\n",
    "history_dict = history.history\n",
    "history_dict.keys()"
   ]
  },
  {
   "cell_type": "code",
   "execution_count": 46,
   "metadata": {
    "ExecuteTime": {
     "end_time": "2019-02-03T15:32:20.159741Z",
     "start_time": "2019-02-03T15:32:19.948345Z"
    }
   },
   "outputs": [
    {
     "data": {
      "image/png": "[encoded data removed]",
      "text/plain": [
       "<Figure size 432x288 with 1 Axes>"
      ]
     },
     "metadata": {
      "needs_background": "light"
     },
     "output_type": "display_data"
    }
   ],
   "source": [
    "# plot training and validation loss\n",
    "import matplotlib.pyplot as plt\n",
    "# history object contains training loop accuracy data\n",
    "history_dict = history.history\n",
    "loss_values = history_dict['loss']\n",
    "val_loss_values = history_dict['val_loss']\n",
    "acc = history_dict['acc']\n",
    "epochs = range(1, len(acc) + 1)\n",
    "plt.plot(epochs, loss_values, 'bo', label='Training loss')\n",
    "plt.plot(epochs, val_loss_values, 'b', label='Validation loss')\n",
    "plt.title('Training and validation loss')\n",
    "plt.xlabel('Epochs')\n",
    "plt.ylabel('Loss')\n",
    "plt.legend()\n",
    "plt.show();"
   ]
  },
  {
   "cell_type": "code",
   "execution_count": 49,
   "metadata": {
    "ExecuteTime": {
     "end_time": "2019-02-03T15:32:55.838290Z",
     "start_time": "2019-02-03T15:32:55.500097Z"
    }
   },
   "outputs": [
    {
     "data": {
      "image/png": "[encoded data removed]",
      "text/plain": [
       "<Figure size 432x288 with 1 Axes>"
      ]
     },
     "metadata": {
      "needs_background": "light"
     },
     "output_type": "display_data"
    }
   ],
   "source": [
    "# plot training and validation accuracy\n",
    "plt.clf()\n",
    "acc = history_dict['acc']\n",
    "val_acc = history_dict['val_acc']\n",
    "plt.plot(epochs, acc, 'bo', label='Training acc')\n",
    "plt.plot(epochs, val_acc, 'b', label='Validation acc')\n",
    "plt.title('Training and validation accuracy')\n",
    "plt.xlabel('Epochs')\n",
    "plt.ylabel('Loss')\n",
    "plt.legend()\n",
    "plt.show();"
   ]
  },
  {
   "cell_type": "markdown",
   "metadata": {},
   "source": [
    "Our model overfits the training data, so we retrain a model on fewer epochs"
   ]
  },
  {
   "cell_type": "code",
   "execution_count": 50,
   "metadata": {
    "ExecuteTime": {
     "end_time": "2019-02-03T15:35:01.939931Z",
     "start_time": "2019-02-03T15:34:40.969111Z"
    }
   },
   "outputs": [
    {
     "name": "stdout",
     "output_type": "stream",
     "text": [
      "Epoch 1/4\n",
      "25000/25000 [==============================] - 4s 168us/step - loss: 0.4313 - acc: 0.8252\n",
      "Epoch 2/4\n",
      "25000/25000 [==============================] - 4s 157us/step - loss: 0.2489 - acc: 0.9127\n",
      "Epoch 3/4\n",
      "25000/25000 [==============================] - 4s 151us/step - loss: 0.1954 - acc: 0.9291\n",
      "Epoch 4/4\n",
      "25000/25000 [==============================] - 4s 150us/step - loss: 0.1642 - acc: 0.9415\n"
     ]
    },
    {
     "data": {
      "text/plain": [
       "<tensorflow.python.keras.callbacks.History at 0x1a49cf98>"
      ]
     },
     "execution_count": 50,
     "metadata": {},
     "output_type": "execute_result"
    },
    {
     "name": "stdout",
     "output_type": "stream",
     "text": [
      "25000/25000 [==============================] - 5s 195us/step\n"
     ]
    }
   ],
   "source": [
    "model = models.Sequential()\n",
    "model.add(layers.Dense(16, activation='relu', input_shape=(10000,)))\n",
    "model.add(layers.Dense(16, activation='relu'))\n",
    "model.add(layers.Dense(1, activation='sigmoid'))\n",
    "model.compile(optimizer='rmsprop',\n",
    "              loss='binary_crossentropy',\n",
    "              metrics=['accuracy'])\n",
    "model.fit(x_train, y_train, epochs=4, batch_size=512)\n",
    "results = model.evaluate(x_test, y_test)"
   ]
  },
  {
   "cell_type": "code",
   "execution_count": 51,
   "metadata": {
    "ExecuteTime": {
     "end_time": "2019-02-03T15:35:18.440973Z",
     "start_time": "2019-02-03T15:35:18.439973Z"
    }
   },
   "outputs": [
    {
     "data": {
      "text/plain": [
       "[0.31126158588409425, 0.87672]"
      ]
     },
     "execution_count": 51,
     "metadata": {},
     "output_type": "execute_result"
    }
   ],
   "source": [
    "results"
   ]
  },
  {
   "cell_type": "markdown",
   "metadata": {},
   "source": [
    "# experimenting with network parameters"
   ]
  },
  {
   "cell_type": "code",
   "execution_count": 52,
   "metadata": {
    "ExecuteTime": {
     "end_time": "2019-02-03T15:39:18.531509Z",
     "start_time": "2019-02-03T15:38:56.680865Z"
    }
   },
   "outputs": [
    {
     "name": "stdout",
     "output_type": "stream",
     "text": [
      "Epoch 1/4\n",
      "25000/25000 [==============================] - 5s 192us/step - loss: 0.4212 - acc: 0.8337\n",
      "Epoch 2/4\n",
      "25000/25000 [==============================] - 4s 170us/step - loss: 0.2530 - acc: 0.9132\n",
      "Epoch 3/4\n",
      "25000/25000 [==============================] - 4s 161us/step - loss: 0.2000 - acc: 0.9296\n",
      "Epoch 4/4\n",
      "25000/25000 [==============================] - 4s 163us/step - loss: 0.1698 - acc: 0.9409\n"
     ]
    },
    {
     "data": {
      "text/plain": [
       "<tensorflow.python.keras.callbacks.History at 0x1b06e748>"
      ]
     },
     "execution_count": 52,
     "metadata": {},
     "output_type": "execute_result"
    },
    {
     "name": "stdout",
     "output_type": "stream",
     "text": [
      "25000/25000 [==============================] - 4s 168us/step\n"
     ]
    }
   ],
   "source": [
    "model = models.Sequential()\n",
    "# train with one dense layer with 32 units\n",
    "model.add(layers.Dense(32, activation='relu', input_shape=(10000,)))\n",
    "model.add(layers.Dense(1, activation='sigmoid'))\n",
    "model.compile(optimizer='rmsprop',\n",
    "              loss='binary_crossentropy',\n",
    "              metrics=['accuracy'])\n",
    "model.fit(x_train, y_train, epochs=4, batch_size=512)\n",
    "results = model.evaluate(x_test, y_test)"
   ]
  },
  {
   "cell_type": "code",
   "execution_count": 53,
   "metadata": {
    "ExecuteTime": {
     "end_time": "2019-02-03T15:39:22.875821Z",
     "start_time": "2019-02-03T15:39:22.874821Z"
    }
   },
   "outputs": [
    {
     "data": {
      "text/plain": [
       "[0.2987311220741272, 0.88024]"
      ]
     },
     "execution_count": 53,
     "metadata": {},
     "output_type": "execute_result"
    }
   ],
   "source": [
    "results"
   ]
  },
  {
   "cell_type": "code",
   "execution_count": 54,
   "metadata": {
    "ExecuteTime": {
     "end_time": "2019-02-03T15:41:00.762780Z",
     "start_time": "2019-02-03T15:40:19.153763Z"
    }
   },
   "outputs": [
    {
     "name": "stdout",
     "output_type": "stream",
     "text": [
      "Epoch 1/10\n",
      "25000/25000 [==============================] - 4s 161us/step - loss: 0.5233 - acc: 0.8124\n",
      "Epoch 2/10\n",
      "25000/25000 [==============================] - 4s 150us/step - loss: 0.3164 - acc: 0.9009\n",
      "Epoch 3/10\n",
      "25000/25000 [==============================] - 4s 150us/step - loss: 0.2320 - acc: 0.9218\n",
      "Epoch 4/10\n",
      "25000/25000 [==============================] - 4s 148us/step - loss: 0.1914 - acc: 0.9328\n",
      "Epoch 5/10\n",
      "25000/25000 [==============================] - 4s 145us/step - loss: 0.1653 - acc: 0.9419\n",
      "Epoch 6/10\n",
      "25000/25000 [==============================] - 4s 154us/step - loss: 0.1465 - acc: 0.9480 1s - l\n",
      "Epoch 7/10\n",
      "25000/25000 [==============================] - 4s 149us/step - loss: 0.1300 - acc: 0.9555\n",
      "Epoch 8/10\n",
      "25000/25000 [==============================] - 4s 145us/step - loss: 0.1166 - acc: 0.9602\n",
      "Epoch 9/10\n",
      "25000/25000 [==============================] - 4s 150us/step - loss: 0.1065 - acc: 0.9642\n",
      "Epoch 10/10\n",
      "25000/25000 [==============================] - 4s 151us/step - loss: 0.0963 - acc: 0.9684\n"
     ]
    },
    {
     "data": {
      "text/plain": [
       "<tensorflow.python.keras.callbacks.History at 0x1b33cef0>"
      ]
     },
     "execution_count": 54,
     "metadata": {},
     "output_type": "execute_result"
    },
    {
     "name": "stdout",
     "output_type": "stream",
     "text": [
      "25000/25000 [==============================] - 3s 140us/step\n"
     ]
    }
   ],
   "source": [
    "model = models.Sequential()\n",
    "# train with three dense layers with 8 units\n",
    "model.add(layers.Dense(8, activation='relu', input_shape=(10000,)))\n",
    "model.add(layers.Dense(8, activation='relu', input_shape=(10000,)))\n",
    "model.add(layers.Dense(8, activation='relu', input_shape=(10000,)))\n",
    "model.add(layers.Dense(1, activation='sigmoid'))\n",
    "model.compile(optimizer='rmsprop',\n",
    "              loss='binary_crossentropy',\n",
    "              metrics=['accuracy'])\n",
    "model.fit(x_train, y_train, epochs=10, batch_size=512)\n",
    "results = model.evaluate(x_test, y_test)"
   ]
  },
  {
   "cell_type": "code",
   "execution_count": 55,
   "metadata": {
    "ExecuteTime": {
     "end_time": "2019-02-03T15:41:19.022179Z",
     "start_time": "2019-02-03T15:41:19.021179Z"
    }
   },
   "outputs": [
    {
     "data": {
      "text/plain": [
       "[0.38720040828228, 0.86956]"
      ]
     },
     "execution_count": 55,
     "metadata": {},
     "output_type": "execute_result"
    }
   ],
   "source": [
    "results"
   ]
  },
  {
   "cell_type": "code",
   "execution_count": 56,
   "metadata": {
    "ExecuteTime": {
     "end_time": "2019-02-03T15:42:46.912133Z",
     "start_time": "2019-02-03T15:42:03.855138Z"
    }
   },
   "outputs": [
    {
     "name": "stdout",
     "output_type": "stream",
     "text": [
      "Epoch 1/10\n",
      "25000/25000 [==============================] - 4s 163us/step - loss: 0.4307 - acc: 0.8279\n",
      "Epoch 2/10\n",
      "25000/25000 [==============================] - 4s 148us/step - loss: 0.2343 - acc: 0.9135\n",
      "Epoch 3/10\n",
      "25000/25000 [==============================] - 4s 153us/step - loss: 0.1785 - acc: 0.9336\n",
      "Epoch 4/10\n",
      "25000/25000 [==============================] - 4s 159us/step - loss: 0.1461 - acc: 0.9472\n",
      "Epoch 5/10\n",
      "25000/25000 [==============================] - 4s 149us/step - loss: 0.1276 - acc: 0.9540\n",
      "Epoch 6/10\n",
      "25000/25000 [==============================] - 4s 151us/step - loss: 0.1130 - acc: 0.9598\n",
      "Epoch 7/10\n",
      "25000/25000 [==============================] - 4s 160us/step - loss: 0.1031 - acc: 0.9641\n",
      "Epoch 8/10\n",
      "25000/25000 [==============================] - 4s 162us/step - loss: 0.0906 - acc: 0.9688\n",
      "Epoch 9/10\n",
      "25000/25000 [==============================] - 4s 156us/step - loss: 0.0833 - acc: 0.9717\n",
      "Epoch 10/10\n",
      "25000/25000 [==============================] - 4s 148us/step - loss: 0.0764 - acc: 0.9749\n"
     ]
    },
    {
     "data": {
      "text/plain": [
       "<tensorflow.python.keras.callbacks.History at 0x1f043c88>"
      ]
     },
     "execution_count": 56,
     "metadata": {},
     "output_type": "execute_result"
    },
    {
     "name": "stdout",
     "output_type": "stream",
     "text": [
      "25000/25000 [==============================] - 4s 151us/step\n"
     ]
    }
   ],
   "source": [
    "model = models.Sequential()\n",
    "# train with tanh activation function\n",
    "model.add(layers.Dense(16, activation='tanh', input_shape=(10000,)))\n",
    "model.add(layers.Dense(16, activation='tanh', input_shape=(10000,)))\n",
    "model.add(layers.Dense(1, activation='sigmoid'))\n",
    "model.compile(optimizer='rmsprop',\n",
    "              loss='binary_crossentropy',\n",
    "              metrics=['accuracy'])\n",
    "model.fit(x_train, y_train, epochs=10, batch_size=512)\n",
    "results = model.evaluate(x_test, y_test)"
   ]
  },
  {
   "cell_type": "code",
   "execution_count": 57,
   "metadata": {
    "ExecuteTime": {
     "end_time": "2019-02-03T15:43:05.858302Z",
     "start_time": "2019-02-03T15:43:05.856302Z"
    }
   },
   "outputs": [
    {
     "data": {
      "text/plain": [
       "[0.5251674690794945, 0.85548]"
      ]
     },
     "execution_count": 57,
     "metadata": {},
     "output_type": "execute_result"
    }
   ],
   "source": [
    "results"
   ]
  },
  {
   "cell_type": "markdown",
   "metadata": {},
   "source": [
    "# Multiclass Classification: Reuters Dataset"
   ]
  },
  {
   "cell_type": "markdown",
   "metadata": {},
   "source": [
    "46 different classes of news topics - text classification"
   ]
  },
  {
   "cell_type": "code",
   "execution_count": 59,
   "metadata": {
    "ExecuteTime": {
     "end_time": "2019-02-03T15:44:40.225299Z",
     "start_time": "2019-02-03T15:44:38.299144Z"
    }
   },
   "outputs": [
    {
     "name": "stdout",
     "output_type": "stream",
     "text": [
      "Downloading data from https://storage.googleapis.com/tensorflow/tf-keras-datasets/reuters.npz\n",
      "2113536/2110848 [==============================] - 0s 0us/step\n"
     ]
    }
   ],
   "source": [
    "from tensorflow.keras.datasets import reuters\n",
    "# loaded as counts of word frequencies\n",
    "(train_data, train_labels), (test_data, test_labels) = reuters.load_data(\n",
    "num_words=10000)"
   ]
  },
  {
   "cell_type": "code",
   "execution_count": 60,
   "metadata": {
    "ExecuteTime": {
     "end_time": "2019-02-03T15:45:48.070540Z",
     "start_time": "2019-02-03T15:45:48.068540Z"
    }
   },
   "outputs": [
    {
     "data": {
      "text/plain": [
       "(8982,)"
      ]
     },
     "execution_count": 60,
     "metadata": {},
     "output_type": "execute_result"
    },
    {
     "data": {
      "text/plain": [
       "(2246,)"
      ]
     },
     "execution_count": 60,
     "metadata": {},
     "output_type": "execute_result"
    }
   ],
   "source": [
    "train_data.shape\n",
    "test_data.shape"
   ]
  },
  {
   "cell_type": "code",
   "execution_count": 62,
   "metadata": {
    "ExecuteTime": {
     "end_time": "2019-02-03T15:46:55.217275Z",
     "start_time": "2019-02-03T15:46:53.905307Z"
    }
   },
   "outputs": [],
   "source": [
    "# encoding as tensors\n",
    "import numpy as np\n",
    "def vectorize_sequences(sequences, dimension=10000):\n",
    "    results = np.zeros((len(sequences), dimension))\n",
    "    for i, sequence in enumerate(sequences):\n",
    "        results[i, sequence] = 1.\n",
    "    return results\n",
    "x_train = vectorize_sequences(train_data)\n",
    "x_test = vectorize_sequences(test_data)"
   ]
  },
  {
   "cell_type": "code",
   "execution_count": 65,
   "metadata": {
    "ExecuteTime": {
     "end_time": "2019-02-03T15:48:58.079124Z",
     "start_time": "2019-02-03T15:48:58.077124Z"
    }
   },
   "outputs": [],
   "source": [
    "# use one-hot encoding of labels\n",
    "from tensorflow.keras.utils import to_categorical\n",
    "one_hot_train_labels = to_categorical(train_labels)\n",
    "one_hot_test_labels = to_categorical(test_labels)"
   ]
  },
  {
   "cell_type": "code",
   "execution_count": 66,
   "metadata": {
    "ExecuteTime": {
     "end_time": "2019-02-03T15:50:28.573777Z",
     "start_time": "2019-02-03T15:50:28.510777Z"
    }
   },
   "outputs": [],
   "source": [
    "# now we use more units per layer to avoid information loss or bottlenecks\n",
    "# if class information lost at one layer it can't be recovered later\n",
    "from tensorflow.keras import models\n",
    "from tensorflow.keras import layers\n",
    "model = models.Sequential()\n",
    "model.add(layers.Dense(64, activation='relu', input_shape=(10000,)))\n",
    "model.add(layers.Dense(64, activation='relu'))\n",
    "# softmax for multiclass probabilities\n",
    "model.add(layers.Dense(46, activation='softmax'))"
   ]
  },
  {
   "cell_type": "code",
   "execution_count": 67,
   "metadata": {
    "ExecuteTime": {
     "end_time": "2019-02-03T15:51:28.683453Z",
     "start_time": "2019-02-03T15:51:28.550055Z"
    }
   },
   "outputs": [],
   "source": [
    "model.compile(optimizer='rmsprop',\n",
    "              loss='categorical_crossentropy', # loss for multiclass\n",
    "              metrics=['accuracy'])"
   ]
  },
  {
   "cell_type": "code",
   "execution_count": 68,
   "metadata": {
    "ExecuteTime": {
     "end_time": "2019-02-03T15:51:57.923626Z",
     "start_time": "2019-02-03T15:51:57.922626Z"
    }
   },
   "outputs": [],
   "source": [
    "x_val = x_train[:1000]\n",
    "partial_x_train = x_train[1000:]\n",
    "y_val = one_hot_train_labels[:1000]\n",
    "partial_y_train = one_hot_train_labels[1000:]"
   ]
  },
  {
   "cell_type": "code",
   "execution_count": 70,
   "metadata": {
    "ExecuteTime": {
     "end_time": "2019-02-03T15:52:22.096112Z",
     "start_time": "2019-02-03T15:52:21.887915Z"
    }
   },
   "outputs": [
    {
     "data": {
      "image/png": "[encoded data removed]",
      "text/plain": [
       "<Figure size 432x288 with 1 Axes>"
      ]
     },
     "metadata": {
      "needs_background": "light"
     },
     "output_type": "display_data"
    }
   ],
   "source": [
    "# plot validation and training loss\n",
    "import matplotlib.pyplot as plt\n",
    "loss = history.history['loss']\n",
    "val_loss = history.history['val_loss']\n",
    "epochs = range(1, len(loss) + 1)\n",
    "plt.plot(epochs, loss, 'bo', label='Training loss')\n",
    "plt.plot(epochs, val_loss, 'b', label='Validation loss')\n",
    "plt.title('Training and validation loss')\n",
    "plt.xlabel('Epochs')\n",
    "plt.ylabel('Loss')\n",
    "plt.legend()\n",
    "plt.show();"
   ]
  },
  {
   "cell_type": "code",
   "execution_count": 71,
   "metadata": {
    "ExecuteTime": {
     "end_time": "2019-02-03T15:52:38.054995Z",
     "start_time": "2019-02-03T15:52:37.864199Z"
    }
   },
   "outputs": [
    {
     "data": {
      "image/png": "[encoded data removed]",
      "text/plain": [
       "<Figure size 432x288 with 1 Axes>"
      ]
     },
     "metadata": {
      "needs_background": "light"
     },
     "output_type": "display_data"
    }
   ],
   "source": [
    "plt.clf()\n",
    "acc = history.history['acc']\n",
    "val_acc = history.history['val_acc']\n",
    "plt.plot(epochs, acc, 'bo', label='Training acc')\n",
    "plt.plot(epochs, val_acc, 'b', label='Validation acc')\n",
    "plt.title('Training and validation accuracy')\n",
    "plt.xlabel('Epochs')\n",
    "plt.ylabel('Loss')\n",
    "plt.legend()\n",
    "plt.show();"
   ]
  },
  {
   "cell_type": "code",
   "execution_count": 72,
   "metadata": {
    "ExecuteTime": {
     "end_time": "2019-02-03T15:54:29.239497Z",
     "start_time": "2019-02-03T15:54:12.378576Z"
    }
   },
   "outputs": [
    {
     "name": "stdout",
     "output_type": "stream",
     "text": [
      "Train on 7982 samples, validate on 1000 samples\n",
      "Epoch 1/9\n",
      "7982/7982 [==============================] - 3s 314us/step - loss: 2.5671 - acc: 0.4965 - val_loss: 1.7041 - val_acc: 0.6180\n",
      "Epoch 2/9\n",
      "7982/7982 [==============================] - 2s 216us/step - loss: 1.4132 - acc: 0.6957 - val_loss: 1.2941 - val_acc: 0.7080\n",
      "Epoch 3/9\n",
      "7982/7982 [==============================] - 2s 217us/step - loss: 1.0429 - acc: 0.7801 - val_loss: 1.1292 - val_acc: 0.7620\n",
      "Epoch 4/9\n",
      "7982/7982 [==============================] - 2s 204us/step - loss: 0.8164 - acc: 0.8310 - val_loss: 1.0102 - val_acc: 0.7970\n",
      "Epoch 5/9\n",
      "7982/7982 [==============================] - 2s 207us/step - loss: 0.6443 - acc: 0.8675 - val_loss: 0.9575 - val_acc: 0.8020\n",
      "Epoch 6/9\n",
      "7982/7982 [==============================] - 2s 212us/step - loss: 0.5151 - acc: 0.8928 - val_loss: 0.9109 - val_acc: 0.8150\n",
      "Epoch 7/9\n",
      "7982/7982 [==============================] - 2s 209us/step - loss: 0.4119 - acc: 0.9154 - val_loss: 0.8784 - val_acc: 0.8260\n",
      "Epoch 8/9\n",
      "7982/7982 [==============================] - 2s 209us/step - loss: 0.3348 - acc: 0.9326 - val_loss: 0.8744 - val_acc: 0.8200\n",
      "Epoch 9/9\n",
      "7982/7982 [==============================] - 2s 208us/step - loss: 0.2777 - acc: 0.9391 - val_loss: 0.8673 - val_acc: 0.8190\n"
     ]
    },
    {
     "data": {
      "text/plain": [
       "<tensorflow.python.keras.callbacks.History at 0x443d2c50>"
      ]
     },
     "execution_count": 72,
     "metadata": {},
     "output_type": "execute_result"
    },
    {
     "name": "stdout",
     "output_type": "stream",
     "text": [
      "2246/2246 [==============================] - 0s 218us/step\n"
     ]
    },
    {
     "data": {
      "text/plain": [
       "[0.9758663786805748, 0.7898486198215535]"
      ]
     },
     "execution_count": 72,
     "metadata": {},
     "output_type": "execute_result"
    }
   ],
   "source": [
    "# retrain a model with fewer epochs\n",
    "model = models.Sequential()\n",
    "model.add(layers.Dense(64, activation='relu', input_shape=(10000,)))\n",
    "model.add(layers.Dense(64, activation='relu'))\n",
    "model.add(layers.Dense(46, activation='softmax'))\n",
    "model.compile(optimizer='rmsprop',\n",
    "loss='categorical_crossentropy',\n",
    "metrics=['accuracy'])\n",
    "model.fit(partial_x_train,\n",
    "partial_y_train,\n",
    "epochs=9,\n",
    "batch_size=512,\n",
    "validation_data=(x_val, y_val))\n",
    "results = model.evaluate(x_test, one_hot_test_labels)\n",
    "results"
   ]
  },
  {
   "cell_type": "markdown",
   "metadata": {},
   "source": [
    "# Regression: Boston Housing Data"
   ]
  },
  {
   "cell_type": "code",
   "execution_count": 74,
   "metadata": {
    "ExecuteTime": {
     "end_time": "2019-02-03T16:01:08.572737Z",
     "start_time": "2019-02-03T16:01:08.210144Z"
    }
   },
   "outputs": [
    {
     "name": "stdout",
     "output_type": "stream",
     "text": [
      "Downloading data from https://storage.googleapis.com/tensorflow/tf-keras-datasets/boston_housing.npz\n",
      "57344/57026 [==============================] - 0s 1us/step\n"
     ]
    }
   ],
   "source": [
    "from tensorflow.keras.datasets import boston_housing\n",
    "(train_data, train_targets), (test_data, test_targets) = boston_housing.load_data()"
   ]
  },
  {
   "cell_type": "code",
   "execution_count": 75,
   "metadata": {
    "ExecuteTime": {
     "end_time": "2019-02-03T16:01:38.723872Z",
     "start_time": "2019-02-03T16:01:38.721872Z"
    }
   },
   "outputs": [
    {
     "data": {
      "text/plain": [
       "(404, 13)"
      ]
     },
     "execution_count": 75,
     "metadata": {},
     "output_type": "execute_result"
    },
    {
     "data": {
      "text/plain": [
       "(102, 13)"
      ]
     },
     "execution_count": 75,
     "metadata": {},
     "output_type": "execute_result"
    },
    {
     "data": {
      "text/plain": [
       "array([15.2, 42.3, 50. , 21.1, 17.7, 18.5, 11.3, 15.6, 15.6, 14.4])"
      ]
     },
     "execution_count": 75,
     "metadata": {},
     "output_type": "execute_result"
    }
   ],
   "source": [
    "train_data.shape\n",
    "test_data.shape\n",
    "train_targets[:10]"
   ]
  },
  {
   "cell_type": "code",
   "execution_count": 76,
   "metadata": {
    "ExecuteTime": {
     "end_time": "2019-02-03T16:02:10.702780Z",
     "start_time": "2019-02-03T16:02:10.700780Z"
    }
   },
   "outputs": [],
   "source": [
    "# normalize data\n",
    "mean = train_data.mean(axis=0)\n",
    "train_data -= mean\n",
    "std = train_data.std(axis=0)\n",
    "train_data /= std\n",
    "test_data -= mean\n",
    "test_data /= std"
   ]
  },
  {
   "cell_type": "code",
   "execution_count": 80,
   "metadata": {
    "ExecuteTime": {
     "end_time": "2019-02-03T16:06:26.250843Z",
     "start_time": "2019-02-03T16:06:26.249843Z"
    }
   },
   "outputs": [],
   "source": [
    "from tensorflow.keras import models\n",
    "from tensorflow.keras import layers\n",
    "def build_model():\n",
    "    model = models.Sequential()\n",
    "    model.add(layers.Dense(64, activation='relu',\n",
    "    input_shape=(train_data.shape[1],)))\n",
    "    model.add(layers.Dense(64, activation='relu'))\n",
    "    # don't need an activation, just use linear output for regression\n",
    "    model.add(layers.Dense(1))\n",
    "    model.compile(optimizer='rmsprop', loss='mse', metrics=['mae'])\n",
    "    return model"
   ]
  },
  {
   "cell_type": "code",
   "execution_count": 81,
   "metadata": {
    "ExecuteTime": {
     "end_time": "2019-02-03T16:08:08.001543Z",
     "start_time": "2019-02-03T16:06:29.354602Z"
    }
   },
   "outputs": [
    {
     "name": "stdout",
     "output_type": "stream",
     "text": [
      "processing fold # 0\n"
     ]
    },
    {
     "data": {
      "text/plain": [
       "<tensorflow.python.keras.callbacks.History at 0x21e3c438>"
      ]
     },
     "execution_count": 81,
     "metadata": {},
     "output_type": "execute_result"
    },
    {
     "name": "stdout",
     "output_type": "stream",
     "text": [
      "processing fold # 1\n"
     ]
    },
    {
     "data": {
      "text/plain": [
       "<tensorflow.python.keras.callbacks.History at 0x21bb8160>"
      ]
     },
     "execution_count": 81,
     "metadata": {},
     "output_type": "execute_result"
    },
    {
     "name": "stdout",
     "output_type": "stream",
     "text": [
      "processing fold # 2\n"
     ]
    },
    {
     "data": {
      "text/plain": [
       "<tensorflow.python.keras.callbacks.History at 0x21516c50>"
      ]
     },
     "execution_count": 81,
     "metadata": {},
     "output_type": "execute_result"
    },
    {
     "name": "stdout",
     "output_type": "stream",
     "text": [
      "processing fold # 3\n"
     ]
    },
    {
     "data": {
      "text/plain": [
       "<tensorflow.python.keras.callbacks.History at 0x21c96860>"
      ]
     },
     "execution_count": 81,
     "metadata": {},
     "output_type": "execute_result"
    }
   ],
   "source": [
    "# k-fold cross validation\n",
    "k = 4\n",
    "num_val_samples = len(train_data) // k\n",
    "num_epochs = 100\n",
    "all_scores = []\n",
    "\n",
    "for i in range(k):\n",
    "    print('processing fold #', i)\n",
    "    val_data = train_data[i * num_val_samples: (i + 1) * num_val_samples]\n",
    "    val_targets = train_targets[i * num_val_samples: (i + 1) * num_val_samples]\n",
    "\n",
    "    partial_train_data = np.concatenate(\n",
    "        [train_data[:i * num_val_samples],\n",
    "        train_data[(i + 1) * num_val_samples:]],\n",
    "        axis=0)\n",
    "    partial_train_targets = np.concatenate(\n",
    "        [train_targets[:i * num_val_samples],\n",
    "        train_targets[(i + 1) * num_val_samples:]],\n",
    "        axis=0)\n",
    "\n",
    "    model = build_model()\n",
    "    model.fit(partial_train_data, partial_train_targets,\n",
    "    epochs=num_epochs, batch_size=1, verbose=0)\n",
    "    val_mse, val_mae = model.evaluate(val_data, val_targets, verbose=0)\n",
    "    \n",
    "    all_scores.append(val_mae)"
   ]
  },
  {
   "cell_type": "code",
   "execution_count": 82,
   "metadata": {
    "ExecuteTime": {
     "end_time": "2019-02-03T16:08:16.680969Z",
     "start_time": "2019-02-03T16:08:16.678969Z"
    }
   },
   "outputs": [
    {
     "data": {
      "text/plain": [
       "2.5374171757462003"
      ]
     },
     "execution_count": 82,
     "metadata": {},
     "output_type": "execute_result"
    }
   ],
   "source": [
    "np.mean(all_scores)"
   ]
  },
  {
   "cell_type": "code",
   "execution_count": 83,
   "metadata": {
    "ExecuteTime": {
     "end_time": "2019-02-03T16:09:43.641103Z",
     "start_time": "2019-02-03T16:09:40.822551Z"
    }
   },
   "outputs": [
    {
     "data": {
      "text/plain": [
       "<tensorflow.python.keras.callbacks.History at 0x44a7b6a0>"
      ]
     },
     "execution_count": 83,
     "metadata": {},
     "output_type": "execute_result"
    },
    {
     "name": "stdout",
     "output_type": "stream",
     "text": [
      "102/102 [==============================] - 0s 2ms/step\n"
     ]
    },
    {
     "data": {
      "text/plain": [
       "2.4827435063380823"
      ]
     },
     "execution_count": 83,
     "metadata": {},
     "output_type": "execute_result"
    }
   ],
   "source": [
    "model = build_model()\n",
    "model.fit(train_data, train_targets, epochs=80, batch_size=16, verbose=0)\n",
    "test_mse_score, test_mae_score = model.evaluate(test_data, test_targets)\n",
    "test_mae_score"
   ]
  },
  {
   "cell_type": "markdown",
   "metadata": {},
   "source": [
    "# Reducing overfitting "
   ]
  },
  {
   "cell_type": "markdown",
   "metadata": {},
   "source": [
    "- L1, L2 weight regularization\n",
    "- Dropout (zero out a random subset of training outputs)\n",
    "- Change model architecture (remove layers, units within layers)\n",
    "- Gather more training data, engineer new features"
   ]
  }
 ],
 "metadata": {
  "kernelspec": {
   "display_name": "Python 3",
   "language": "python",
   "name": "python3"
  },
  "language_info": {
   "codemirror_mode": {
    "name": "ipython",
    "version": 3
   },
   "file_extension": ".py",
   "mimetype": "text/x-python",
   "name": "python",
   "nbconvert_exporter": "python",
   "pygments_lexer": "ipython3",
   "version": "3.6.8"
  }
 },
 "nbformat": 4,
 "nbformat_minor": 2
}
